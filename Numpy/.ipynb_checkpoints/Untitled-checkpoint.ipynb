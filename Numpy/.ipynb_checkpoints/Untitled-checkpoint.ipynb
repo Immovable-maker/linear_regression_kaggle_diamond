{
 "cells": [
  {
   "cell_type": "code",
   "execution_count": 70,
   "metadata": {
    "collapsed": true
   },
   "outputs": [],
   "source": [
    "import numpy as np"
   ]
  },
  {
   "cell_type": "code",
   "execution_count": 71,
   "metadata": {
    "collapsed": true
   },
   "outputs": [],
   "source": [
    "my_list=[1,2,3,4]"
   ]
  },
  {
   "cell_type": "code",
   "execution_count": 72,
   "metadata": {},
   "outputs": [
    {
     "data": {
      "text/plain": [
       "[1, 2, 3, 4]"
      ]
     },
     "execution_count": 72,
     "metadata": {},
     "output_type": "execute_result"
    }
   ],
   "source": [
    "my_list"
   ]
  },
  {
   "cell_type": "code",
   "execution_count": 73,
   "metadata": {},
   "outputs": [
    {
     "data": {
      "text/plain": [
       "array([1, 2, 3, 4])"
      ]
     },
     "execution_count": 73,
     "metadata": {},
     "output_type": "execute_result"
    }
   ],
   "source": [
    "np.array(my_list)"
   ]
  },
  {
   "cell_type": "code",
   "execution_count": 74,
   "metadata": {
    "collapsed": true
   },
   "outputs": [],
   "source": [
    "matrix_list=[[1,2,3],[4,5,6],[7,8,9]]"
   ]
  },
  {
   "cell_type": "code",
   "execution_count": 75,
   "metadata": {},
   "outputs": [
    {
     "data": {
      "text/plain": [
       "[[1, 2, 3], [4, 5, 6], [7, 8, 9]]"
      ]
     },
     "execution_count": 75,
     "metadata": {},
     "output_type": "execute_result"
    }
   ],
   "source": [
    "matrix_list"
   ]
  },
  {
   "cell_type": "code",
   "execution_count": 76,
   "metadata": {
    "collapsed": true
   },
   "outputs": [],
   "source": [
    "matrix=np.array(matrix_list)"
   ]
  },
  {
   "cell_type": "code",
   "execution_count": 77,
   "metadata": {},
   "outputs": [
    {
     "data": {
      "text/plain": [
       "array([[1, 2, 3],\n",
       "       [4, 5, 6],\n",
       "       [7, 8, 9]])"
      ]
     },
     "execution_count": 77,
     "metadata": {},
     "output_type": "execute_result"
    }
   ],
   "source": [
    "matrix"
   ]
  },
  {
   "cell_type": "markdown",
   "metadata": {},
   "source": [
    "Arrange"
   ]
  },
  {
   "cell_type": "code",
   "execution_count": 54,
   "metadata": {},
   "outputs": [
    {
     "data": {
      "text/plain": [
       "array([0, 1, 2, 3, 4, 5, 6, 7, 8, 9])"
      ]
     },
     "execution_count": 54,
     "metadata": {},
     "output_type": "execute_result"
    }
   ],
   "source": [
    "np.arange(0,10)"
   ]
  },
  {
   "cell_type": "code",
   "execution_count": 55,
   "metadata": {},
   "outputs": [
    {
     "data": {
      "text/plain": [
       "array([ 3,  7, 11, 15, 19])"
      ]
     },
     "execution_count": 55,
     "metadata": {},
     "output_type": "execute_result"
    }
   ],
   "source": [
    "np.arange(3,20,4)"
   ]
  },
  {
   "cell_type": "code",
   "execution_count": 56,
   "metadata": {},
   "outputs": [
    {
     "data": {
      "text/plain": [
       "array([ 0.,  0.,  0.,  0.,  0.])"
      ]
     },
     "execution_count": 56,
     "metadata": {},
     "output_type": "execute_result"
    }
   ],
   "source": [
    "np.zeros(5)"
   ]
  },
  {
   "cell_type": "code",
   "execution_count": 57,
   "metadata": {},
   "outputs": [
    {
     "data": {
      "text/plain": [
       "array([[ 0.,  0.,  0.,  0.,  0.,  0.],\n",
       "       [ 0.,  0.,  0.,  0.,  0.,  0.],\n",
       "       [ 0.,  0.,  0.,  0.,  0.,  0.],\n",
       "       [ 0.,  0.,  0.,  0.,  0.,  0.],\n",
       "       [ 0.,  0.,  0.,  0.,  0.,  0.]])"
      ]
     },
     "execution_count": 57,
     "metadata": {},
     "output_type": "execute_result"
    }
   ],
   "source": [
    "np.zeros((5,6))"
   ]
  },
  {
   "cell_type": "code",
   "execution_count": 58,
   "metadata": {},
   "outputs": [
    {
     "data": {
      "text/plain": [
       "array([ 1.,  1.,  1.])"
      ]
     },
     "execution_count": 58,
     "metadata": {},
     "output_type": "execute_result"
    }
   ],
   "source": [
    "np.ones(3)"
   ]
  },
  {
   "cell_type": "code",
   "execution_count": 59,
   "metadata": {},
   "outputs": [
    {
     "data": {
      "text/plain": [
       "array([[ 1.,  1.,  1.,  1.,  1.],\n",
       "       [ 1.,  1.,  1.,  1.,  1.],\n",
       "       [ 1.,  1.,  1.,  1.,  1.],\n",
       "       [ 1.,  1.,  1.,  1.,  1.],\n",
       "       [ 1.,  1.,  1.,  1.,  1.]])"
      ]
     },
     "execution_count": 59,
     "metadata": {},
     "output_type": "execute_result"
    }
   ],
   "source": [
    "np.ones((5,5))"
   ]
  },
  {
   "cell_type": "markdown",
   "metadata": {
    "collapsed": true
   },
   "source": [
    "eye"
   ]
  },
  {
   "cell_type": "code",
   "execution_count": 61,
   "metadata": {
    "collapsed": true
   },
   "outputs": [],
   "source": [
    "import numpy as ne"
   ]
  },
  {
   "cell_type": "code",
   "execution_count": 62,
   "metadata": {},
   "outputs": [
    {
     "data": {
      "text/plain": [
       "array([ 1.,  1.,  1.])"
      ]
     },
     "execution_count": 62,
     "metadata": {},
     "output_type": "execute_result"
    }
   ],
   "source": [
    "np.ones(3)"
   ]
  },
  {
   "cell_type": "code",
   "execution_count": 78,
   "metadata": {
    "collapsed": true
   },
   "outputs": [],
   "source": [
    "import numpy as np"
   ]
  },
  {
   "cell_type": "code",
   "execution_count": 79,
   "metadata": {},
   "outputs": [
    {
     "data": {
      "text/plain": [
       "array([ 1.,  1.,  1.])"
      ]
     },
     "execution_count": 79,
     "metadata": {},
     "output_type": "execute_result"
    }
   ],
   "source": [
    "ne.ones(3)"
   ]
  },
  {
   "cell_type": "code",
   "execution_count": 80,
   "metadata": {},
   "outputs": [
    {
     "data": {
      "text/plain": [
       "array([[ 1.,  0.,  0.],\n",
       "       [ 0.,  1.,  0.],\n",
       "       [ 0.,  0.,  1.]])"
      ]
     },
     "execution_count": 80,
     "metadata": {},
     "output_type": "execute_result"
    }
   ],
   "source": [
    "np.eye(3,3)"
   ]
  },
  {
   "cell_type": "code",
   "execution_count": 81,
   "metadata": {},
   "outputs": [
    {
     "data": {
      "text/plain": [
       "array([[ 1.,  0.,  0.,  0.],\n",
       "       [ 0.,  1.,  0.,  0.],\n",
       "       [ 0.,  0.,  1.,  0.],\n",
       "       [ 0.,  0.,  0.,  1.]])"
      ]
     },
     "execution_count": 81,
     "metadata": {},
     "output_type": "execute_result"
    }
   ],
   "source": [
    "np.eye(4)"
   ]
  },
  {
   "cell_type": "code",
   "execution_count": 84,
   "metadata": {},
   "outputs": [
    {
     "data": {
      "text/plain": [
       "array([-0.63394064, -1.09925119, -0.44840092, -2.19163251, -0.03837062])"
      ]
     },
     "execution_count": 84,
     "metadata": {},
     "output_type": "execute_result"
    }
   ],
   "source": [
    "np.random.randn(5)"
   ]
  },
  {
   "cell_type": "code",
   "execution_count": 86,
   "metadata": {},
   "outputs": [
    {
     "data": {
      "text/plain": [
       "array([ 0.48916412,  1.48653904,  1.0390458 , -1.4233417 , -0.15552333])"
      ]
     },
     "execution_count": 86,
     "metadata": {},
     "output_type": "execute_result"
    }
   ],
   "source": [
    "np.random.randn(5)"
   ]
  },
  {
   "cell_type": "code",
   "execution_count": 88,
   "metadata": {},
   "outputs": [
    {
     "data": {
      "text/plain": [
       "array([[-1.9810894 ,  0.43635497, -1.0193529 , -1.37799201,  0.30777795,\n",
       "         2.18170916,  0.93450626,  0.28448767, -0.81060031, -2.37631241],\n",
       "       [-0.06470403,  0.78532744,  0.11580904, -1.30139348, -0.73523718,\n",
       "        -0.685024  ,  0.67160752,  0.93009656, -0.91297884, -0.44307735],\n",
       "       [ 1.92549793, -0.74296752,  0.37165326,  0.21810659, -0.69427521,\n",
       "         0.27217133,  1.54202058,  0.52313656,  0.05906212, -1.07939831],\n",
       "       [ 0.17897602, -1.63394269, -0.16050304,  0.21485951,  0.60667035,\n",
       "        -2.72138993, -1.04612607,  2.18227063,  0.84408777,  1.26978296],\n",
       "       [ 1.08314671, -2.44973768,  0.35821647, -1.48665525, -0.71019997,\n",
       "        -0.0242384 , -0.24816028, -1.86859018,  0.97898308, -0.1703508 ],\n",
       "       [-0.7107252 , -1.38776452,  0.08557712,  0.52161334, -1.07180089,\n",
       "         0.88417956, -1.66451619,  1.40285205, -1.08267055,  0.41520483],\n",
       "       [-1.29809444,  0.22787764,  0.24179211, -0.945256  , -0.01654388,\n",
       "         1.33399617,  1.06774744, -0.68798794,  1.18654928,  0.08826934],\n",
       "       [ 0.37713674, -0.20818466, -1.1081722 ,  0.33507048, -0.16096019,\n",
       "        -0.29595889,  0.7177372 ,  1.19572552,  1.38290634, -1.242136  ],\n",
       "       [-0.10148508,  0.39574391,  0.84671025, -1.7899247 ,  0.285283  ,\n",
       "         0.08646852, -0.32228174,  1.53593352, -0.66500481,  0.62967424],\n",
       "       [-0.42907556,  0.10553282, -0.50785301, -0.4266406 , -1.44749943,\n",
       "        -0.79835981,  0.88092939,  0.50216991,  0.24074395,  0.86582043]])"
      ]
     },
     "execution_count": 88,
     "metadata": {},
     "output_type": "execute_result"
    }
   ],
   "source": [
    "np.random.randn(10,10)"
   ]
  },
  {
   "cell_type": "code",
   "execution_count": 89,
   "metadata": {},
   "outputs": [
    {
     "data": {
      "text/plain": [
       "array([ 0.53689239,  0.09609774,  0.458187  ,  0.92136871,  0.0349181 ,\n",
       "        0.19521788,  0.96301277,  0.98597463,  0.67058221,  0.77105546,\n",
       "        0.19180305,  0.64390396,  0.19403478,  0.07774726,  0.32462915,\n",
       "        0.74420887,  0.94248422,  0.55735112,  0.45685361,  0.87485111,\n",
       "        0.47357137,  0.40104297,  0.65890525,  0.97738442,  0.34183346,\n",
       "        0.59934325,  0.02662747,  0.92973781,  0.40246731,  0.43205059,\n",
       "        0.82784064,  0.1934665 ,  0.4157024 ,  0.31068958,  0.05541344,\n",
       "        0.78441067,  0.10857522,  0.59529509,  0.62438334,  0.10595134,\n",
       "        0.16154053,  0.39997032,  0.84084985,  0.91801759,  0.90289243,\n",
       "        0.68334833,  0.82936379,  0.4031767 ,  0.32402363,  0.2076018 ,\n",
       "        0.6447156 ,  0.21135396,  0.2095071 ,  0.53845928,  0.57240686,\n",
       "        0.41241079,  0.64029793,  0.98116157,  0.57218933,  0.36956677,\n",
       "        0.59102701,  0.34285867,  0.7297361 ,  0.6730323 ,  0.19045945,\n",
       "        0.96133357,  0.23554349,  0.99863188,  0.86079645,  0.35482296,\n",
       "        0.25872405,  0.46902344,  0.86475479,  0.76850023,  0.410576  ,\n",
       "        0.71148174,  0.39487544,  0.96399939,  0.34576008,  0.83882974,\n",
       "        0.96421703,  0.66212435,  0.62425482,  0.00508379,  0.70100515,\n",
       "        0.17296986,  0.33252291,  0.60830932,  0.58216415,  0.98415389,\n",
       "        0.85504614,  0.74582103,  0.89830387,  0.04406136,  0.273825  ,\n",
       "        0.26353147,  0.10221638,  0.73976755,  0.82208015,  0.01832436])"
      ]
     },
     "execution_count": 89,
     "metadata": {},
     "output_type": "execute_result"
    }
   ],
   "source": [
    "np.random.rand(100)"
   ]
  },
  {
   "cell_type": "code",
   "execution_count": 90,
   "metadata": {},
   "outputs": [
    {
     "data": {
      "text/plain": [
       "39"
      ]
     },
     "execution_count": 90,
     "metadata": {},
     "output_type": "execute_result"
    }
   ],
   "source": [
    "np.random.randint(100)"
   ]
  },
  {
   "cell_type": "code",
   "execution_count": 91,
   "metadata": {
    "collapsed": true
   },
   "outputs": [],
   "source": [
    "arr=np.arange(24)"
   ]
  },
  {
   "cell_type": "code",
   "execution_count": 95,
   "metadata": {},
   "outputs": [
    {
     "data": {
      "text/plain": [
       "array([[ 0.74561499,  0.35682236,  0.13352718,  0.83729541,  0.75664757,\n",
       "         0.44399508,  0.3680205 ,  0.3544347 ,  0.33036742,  0.90919634],\n",
       "       [ 0.8495996 ,  0.82921102,  0.37689169,  0.85564405,  0.14211733,\n",
       "         0.21800715,  0.52687536,  0.44995595,  0.65704936,  0.85023153],\n",
       "       [ 0.73965163,  0.35888998,  0.90272551,  0.55267772,  0.90142986,\n",
       "         0.9019598 ,  0.16648321,  0.97869212,  0.79289076,  0.55136097],\n",
       "       [ 0.36028869,  0.45286797,  0.25161244,  0.12464395,  0.43743463,\n",
       "         0.29934561,  0.40369008,  0.85063018,  0.16143048,  0.62867976],\n",
       "       [ 0.80593263,  0.23179848,  0.72927666,  0.63195284,  0.70066008,\n",
       "         0.56385749,  0.17478155,  0.67691529,  0.01874422,  0.3642581 ],\n",
       "       [ 0.4660697 ,  0.25964801,  0.77316646,  0.63627941,  0.28925426,\n",
       "         0.58732415,  0.49503393,  0.94474715,  0.88443853,  0.55936944],\n",
       "       [ 0.69848838,  0.12956083,  0.60059973,  0.84486548,  0.42672489,\n",
       "         0.61632434,  0.19012691,  0.02980682,  0.54935581,  0.03593282],\n",
       "       [ 0.91776534,  0.04307473,  0.5390004 ,  0.9594579 ,  0.46601144,\n",
       "         0.96208034,  0.37501155,  0.95911232,  0.72457501,  0.52293444],\n",
       "       [ 0.56763739,  0.06970718,  0.88384206,  0.71890948,  0.3001173 ,\n",
       "         0.30294374,  0.36673587,  0.35261093,  0.18116649,  0.07628995],\n",
       "       [ 0.24206187,  0.94553326,  0.13047372,  0.19840035,  0.78308589,\n",
       "         0.65341458,  0.79548726,  0.38848989,  0.6931293 ,  0.47182808]])"
      ]
     },
     "execution_count": 95,
     "metadata": {},
     "output_type": "execute_result"
    }
   ],
   "source": [
    "np.random.rand(100).reshape(10,10)"
   ]
  },
  {
   "cell_type": "code",
   "execution_count": 98,
   "metadata": {
    "collapsed": true
   },
   "outputs": [],
   "source": []
  },
  {
   "cell_type": "code",
   "execution_count": 106,
   "metadata": {},
   "outputs": [],
   "source": [
    "arr=np.random.randint(0,100,10)"
   ]
  },
  {
   "cell_type": "code",
   "execution_count": 109,
   "metadata": {},
   "outputs": [
    {
     "data": {
      "text/plain": [
       "array([11, 22, 50, 88,  6, 40, 45,  0, 40, 20])"
      ]
     },
     "execution_count": 109,
     "metadata": {},
     "output_type": "execute_result"
    }
   ],
   "source": [
    "arr"
   ]
  },
  {
   "cell_type": "code",
   "execution_count": 108,
   "metadata": {},
   "outputs": [
    {
     "data": {
      "text/plain": [
       "(10,)"
      ]
     },
     "execution_count": 108,
     "metadata": {},
     "output_type": "execute_result"
    }
   ],
   "source": [
    "arr.shape"
   ]
  },
  {
   "cell_type": "raw",
   "metadata": {},
   "source": []
  },
  {
   "cell_type": "code",
   "execution_count": 111,
   "metadata": {},
   "outputs": [
    {
     "data": {
      "text/plain": [
       "(1, 10)"
      ]
     },
     "execution_count": 111,
     "metadata": {},
     "output_type": "execute_result"
    }
   ],
   "source": [
    "np.array([[11, 22, 50, 88,  6, 40, 45,  0, 40, 20]]).shape"
   ]
  },
  {
   "cell_type": "code",
   "execution_count": null,
   "metadata": {
    "collapsed": true
   },
   "outputs": [],
   "source": []
  }
 ],
 "metadata": {
  "kernelspec": {
   "display_name": "Python 3",
   "language": "python",
   "name": "python3"
  },
  "language_info": {
   "codemirror_mode": {
    "name": "ipython",
    "version": 3
   },
   "file_extension": ".py",
   "mimetype": "text/x-python",
   "name": "python",
   "nbconvert_exporter": "python",
   "pygments_lexer": "ipython3",
   "version": "3.6.3"
  }
 },
 "nbformat": 4,
 "nbformat_minor": 2
}
